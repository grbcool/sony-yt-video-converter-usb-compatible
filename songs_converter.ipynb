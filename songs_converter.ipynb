{
 "cells": [
  {
   "cell_type": "code",
   "execution_count": 1,
   "metadata": {},
   "outputs": [],
   "source": [
    "import ffmpeg\n",
    "import os\n",
    "\n",
    "def resize_video_with_audio(input_video_path, output_video_path, target_width=720, target_height=560, target_fps=25, video_codec=\"mpeg4\",audio_codec=\"aac\", audio_bitrate=\"128k\",video_params = {}):\n",
    "    \"\"\"Resizes a video while preserving the original audio, using specific codecs and bitrates.\n",
    "\n",
    "    Args:\n",
    "        input_video_path (str): Path to the input video file.\n",
    "        output_video_path (str): Path to save the resized video file.\n",
    "        target_width (int): Target width in pixels (default: 320).\n",
    "        target_height (int): Target height in pixels (default: 240).\n",
    "        target_fps (int): Target frames per second (default: 24).\n",
    "    \"\"\"\n",
    "    # Read the input video and audio\n",
    "    input_video = ffmpeg.input(input_video_path)\n",
    "    audio = input_video.audio\n",
    "\n",
    "    # Resize video and set FPS\n",
    "    video = (\n",
    "        input_video\n",
    "        .filter('scale', target_width, target_height)\n",
    "        .filter('fps', fps=target_fps)\n",
    "    )\n",
    "\n",
    "    # Output video with specified codecs and bitrate\n",
    "    output = ffmpeg.output(video, audio, output_video_path,\n",
    "                           vcodec=video_codec,\n",
    "                           acodec=audio_codec,\n",
    "                           audio_bitrate=audio_bitrate,\n",
    "                           **video_params)\n",
    "    ffmpeg.run(output, overwrite_output=True)\n",
    "    print(f\"Video resized to {target_width}x{target_height} at {target_fps}fps with audio codec {audio_codec} @ {audio_bitrate} and saved to: {output_video_path}\")\n",
    "\n",
    "# Example usage:\n",
    "# input_video_file = \"songs/dushman_na_kare.mp4\"\n",
    "# output_video_file = \"Aur Is Dil Mein Kya Rakha Hai For Male Karaoke_Lyrics Eng. & हिंदी.mp4\"\n",
    "\n",
    "# resize_video_with_audio(input_video_file, output_video_file)"
   ]
  },
  {
   "cell_type": "code",
   "execution_count": 2,
   "metadata": {},
   "outputs": [
    {
     "name": "stdout",
     "output_type": "stream",
     "text": [
      "Requirement already satisfied: ffmpeg-python in /Library/Frameworks/Python.framework/Versions/3.10/lib/python3.10/site-packages (0.2.0)\n",
      "Requirement already satisfied: future in /Library/Frameworks/Python.framework/Versions/3.10/lib/python3.10/site-packages (from ffmpeg-python) (0.18.3)\n",
      "\n",
      "\u001b[1m[\u001b[0m\u001b[34;49mnotice\u001b[0m\u001b[1;39;49m]\u001b[0m\u001b[39;49m A new release of pip is available: \u001b[0m\u001b[31;49m24.2\u001b[0m\u001b[39;49m -> \u001b[0m\u001b[32;49m24.3.1\u001b[0m\n",
      "\u001b[1m[\u001b[0m\u001b[34;49mnotice\u001b[0m\u001b[1;39;49m]\u001b[0m\u001b[39;49m To update, run: \u001b[0m\u001b[32;49mpip install --upgrade pip\u001b[0m\n"
     ]
    }
   ],
   "source": [
    "!pip install ffmpeg-python --upgrade"
   ]
  },
  {
   "cell_type": "code",
   "execution_count": 5,
   "metadata": {},
   "outputs": [
    {
     "name": "stdout",
     "output_type": "stream",
     "text": [
      "Requirement already satisfied: ffmpeg==1.4 in /Library/Frameworks/Python.framework/Versions/3.10/lib/python3.10/site-packages (1.4)\n",
      "\n",
      "\u001b[1m[\u001b[0m\u001b[34;49mnotice\u001b[0m\u001b[1;39;49m]\u001b[0m\u001b[39;49m A new release of pip is available: \u001b[0m\u001b[31;49m24.2\u001b[0m\u001b[39;49m -> \u001b[0m\u001b[32;49m24.3.1\u001b[0m\n",
      "\u001b[1m[\u001b[0m\u001b[34;49mnotice\u001b[0m\u001b[1;39;49m]\u001b[0m\u001b[39;49m To update, run: \u001b[0m\u001b[32;49mpip install --upgrade pip\u001b[0m\n"
     ]
    }
   ],
   "source": [
    "!pip install ffmpeg==1.4"
   ]
  },
  {
   "cell_type": "code",
   "execution_count": 3,
   "metadata": {},
   "outputs": [
    {
     "ename": "AttributeError",
     "evalue": "module 'ffmpeg' has no attribute 'input'",
     "output_type": "error",
     "traceback": [
      "\u001b[0;31m---------------------------------------------------------------------------\u001b[0m",
      "\u001b[0;31mAttributeError\u001b[0m                            Traceback (most recent call last)",
      "Cell \u001b[0;32mIn [3], line 22\u001b[0m\n\u001b[1;32m     19\u001b[0m folder_path \u001b[38;5;241m=\u001b[39m \u001b[38;5;124m'\u001b[39m\u001b[38;5;124msongs\u001b[39m\u001b[38;5;124m'\u001b[39m\n\u001b[1;32m     21\u001b[0m \u001b[38;5;66;03m# Process all MP4 files in the folder\u001b[39;00m\n\u001b[0;32m---> 22\u001b[0m process_videos_in_folder(folder_path)\n",
      "Cell \u001b[0;32mIn [3], line 16\u001b[0m, in \u001b[0;36mprocess_videos_in_folder\u001b[0;34m(folder_path)\u001b[0m\n\u001b[1;32m     14\u001b[0m     os\u001b[38;5;241m.\u001b[39mmakedirs(folder_path\u001b[38;5;241m+\u001b[39m\u001b[38;5;124m\"\u001b[39m\u001b[38;5;124m_converted\u001b[39m\u001b[38;5;124m\"\u001b[39m)\n\u001b[1;32m     15\u001b[0m output_video_path \u001b[38;5;241m=\u001b[39m os\u001b[38;5;241m.\u001b[39mpath\u001b[38;5;241m.\u001b[39mjoin(folder_path\u001b[38;5;241m+\u001b[39m\u001b[38;5;124m\"\u001b[39m\u001b[38;5;124m_converted\u001b[39m\u001b[38;5;124m\"\u001b[39m, file)\n\u001b[0;32m---> 16\u001b[0m \u001b[43mresize_video_with_audio\u001b[49m\u001b[43m(\u001b[49m\u001b[43minput_video_path\u001b[49m\u001b[43m,\u001b[49m\u001b[43m \u001b[49m\u001b[43moutput_video_path\u001b[49m\u001b[43m)\u001b[49m\n",
      "Cell \u001b[0;32mIn [1], line 15\u001b[0m, in \u001b[0;36mresize_video_with_audio\u001b[0;34m(input_video_path, output_video_path, target_width, target_height, target_fps, video_codec, audio_codec, audio_bitrate, video_params)\u001b[0m\n\u001b[1;32m      5\u001b[0m \u001b[38;5;250m\u001b[39m\u001b[38;5;124;03m\"\"\"Resizes a video while preserving the original audio, using specific codecs and bitrates.\u001b[39;00m\n\u001b[1;32m      6\u001b[0m \n\u001b[1;32m      7\u001b[0m \u001b[38;5;124;03mArgs:\u001b[39;00m\n\u001b[0;32m   (...)\u001b[0m\n\u001b[1;32m     12\u001b[0m \u001b[38;5;124;03m    target_fps (int): Target frames per second (default: 24).\u001b[39;00m\n\u001b[1;32m     13\u001b[0m \u001b[38;5;124;03m\"\"\"\u001b[39;00m\n\u001b[1;32m     14\u001b[0m \u001b[38;5;66;03m# Read the input video and audio\u001b[39;00m\n\u001b[0;32m---> 15\u001b[0m input_video \u001b[38;5;241m=\u001b[39m \u001b[43mffmpeg\u001b[49m\u001b[38;5;241;43m.\u001b[39;49m\u001b[43minput\u001b[49m(input_video_path)\n\u001b[1;32m     16\u001b[0m audio \u001b[38;5;241m=\u001b[39m input_video\u001b[38;5;241m.\u001b[39maudio\n\u001b[1;32m     18\u001b[0m \u001b[38;5;66;03m# Resize video and set FPS\u001b[39;00m\n",
      "\u001b[0;31mAttributeError\u001b[0m: module 'ffmpeg' has no attribute 'input'"
     ]
    }
   ],
   "source": [
    "def process_videos_in_folder(folder_path):\n",
    "    \"\"\"Processes all MP4 files in the specified folder using the resize_video_with_audio function.\n",
    "\n",
    "    Args:\n",
    "        folder_path (str): Path to the folder containing MP4 files.\n",
    "    \"\"\"\n",
    "    for dir,subdirs,file_list in os.walk(folder_path):\n",
    "        for file in file_list:\n",
    "            file_path = os.path.join(dir,file)\n",
    "            if file_path.endswith(\".mp4\"):\n",
    "                input_video_path = file_path\n",
    "\n",
    "                if not os.path.exists(folder_path+\"_converted\"):\n",
    "                    os.makedirs(folder_path+\"_converted\")\n",
    "                output_video_path = os.path.join(folder_path+\"_converted\", file)\n",
    "                resize_video_with_audio(input_video_path, output_video_path)\n",
    "\n",
    "# Define the path to the folder containing the MP4 files\n",
    "folder_path = 'songs'\n",
    "\n",
    "# Process all MP4 files in the folder\n",
    "process_videos_in_folder(folder_path)"
   ]
  },
  {
   "cell_type": "code",
   "execution_count": null,
   "metadata": {},
   "outputs": [],
   "source": []
  },
  {
   "cell_type": "code",
   "execution_count": null,
   "metadata": {},
   "outputs": [],
   "source": []
  },
  {
   "cell_type": "code",
   "execution_count": null,
   "metadata": {},
   "outputs": [],
   "source": []
  },
  {
   "cell_type": "code",
   "execution_count": 9,
   "metadata": {},
   "outputs": [],
   "source": [
    "def get_original_fps(input_video_path):\n",
    "    \"\"\"Extracts the original FPS rate from the input video file.\"\"\"\n",
    "    probe = ffmpeg.probe(input_video_path)\n",
    "    video_streams = [stream for stream in probe['streams'] if stream['codec_type'] == 'video']\n",
    "    \n",
    "    if video_streams:\n",
    "        original_fps = eval(video_streams[0]['r_frame_rate'])\n",
    "        return original_fps\n",
    "    else:\n",
    "        raise ValueError(\"No video stream found in the input file.\")"
   ]
  },
  {
   "cell_type": "code",
   "execution_count": 13,
   "metadata": {},
   "outputs": [
    {
     "name": "stdout",
     "output_type": "stream",
     "text": [
      "Collecting pytubefix\n",
      "  Downloading pytubefix-6.4.2-py3-none-any.whl.metadata (4.3 kB)\n",
      "Downloading pytubefix-6.4.2-py3-none-any.whl (72 kB)\n",
      "\u001b[2K   \u001b[90m━━━━━━━━━━━━━━━━━━━━━━━━━━━━━━━━━━━━━━━━\u001b[0m \u001b[32m72.9/72.9 kB\u001b[0m \u001b[31m1.8 MB/s\u001b[0m eta \u001b[36m0:00:00\u001b[0m\n",
      "\u001b[?25hInstalling collected packages: pytubefix\n",
      "Successfully installed pytubefix-6.4.2\n",
      "\n",
      "\u001b[1m[\u001b[0m\u001b[34;49mnotice\u001b[0m\u001b[1;39;49m]\u001b[0m\u001b[39;49m A new release of pip is available: \u001b[0m\u001b[31;49m24.1.1\u001b[0m\u001b[39;49m -> \u001b[0m\u001b[32;49m24.1.2\u001b[0m\n",
      "\u001b[1m[\u001b[0m\u001b[34;49mnotice\u001b[0m\u001b[1;39;49m]\u001b[0m\u001b[39;49m To update, run: \u001b[0m\u001b[32;49mpip install --upgrade pip\u001b[0m\n"
     ]
    }
   ],
   "source": [
    "!pip install pytubefix\n"
   ]
  },
  {
   "cell_type": "code",
   "execution_count": 14,
   "metadata": {},
   "outputs": [
    {
     "name": "stdout",
     "output_type": "stream",
     "text": [
      "Video downloaded successfully: MALA HE DATTAGURU DILSALE MARATHI DATTA BHAKTI GEET KARAOKE GEET MALHAR By SUNIL MANJREKAR\n"
     ]
    }
   ],
   "source": [
    "from pytubefix import YouTube\n",
    "\n",
    "def download_youtube_video(video_url, output_path='.'):\n",
    "    try:\n",
    "        yt = YouTube(video_url)\n",
    "        video_stream = yt.streams.get_highest_resolution()\n",
    "        video_stream.download(output_path)\n",
    "        print(f'Video downloaded successfully: {yt.title}')\n",
    "    except Exception as e:\n",
    "        print(f'An error occurred: {e}')\n",
    "\n",
    "# Example usage\n",
    "video_url = 'https://www.youtube.com/watch?v=mry4gTVyurI'\n",
    "download_youtube_video(video_url, output_path='')"
   ]
  },
  {
   "cell_type": "code",
   "execution_count": null,
   "metadata": {},
   "outputs": [],
   "source": []
  }
 ],
 "metadata": {
  "kernelspec": {
   "display_name": "Python 3",
   "language": "python",
   "name": "python3"
  },
  "language_info": {
   "codemirror_mode": {
    "name": "ipython",
    "version": 3
   },
   "file_extension": ".py",
   "mimetype": "text/x-python",
   "name": "python",
   "nbconvert_exporter": "python",
   "pygments_lexer": "ipython3",
   "version": "3.10.6"
  }
 },
 "nbformat": 4,
 "nbformat_minor": 2
}
